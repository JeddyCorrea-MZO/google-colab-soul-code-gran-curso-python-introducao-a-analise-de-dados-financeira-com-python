{
  "nbformat": 4,
  "nbformat_minor": 0,
  "metadata": {
    "colab": {
      "provenance": [],
      "collapsed_sections": [
        "21-D1GQYwhaM",
        "TCaTXx0NyvGT"
      ],
      "authorship_tag": "ABX9TyN05TzJ+gBmwoN3f1KDGFu5",
      "include_colab_link": true
    },
    "kernelspec": {
      "name": "python3",
      "display_name": "Python 3"
    },
    "language_info": {
      "name": "python"
    }
  },
  "cells": [
    {
      "cell_type": "markdown",
      "metadata": {
        "id": "view-in-github",
        "colab_type": "text"
      },
      "source": [
        "<a href=\"https://colab.research.google.com/github/JeddyCorrea-MZO/google-colab-soul-code-gran-curso-python-introducao-a-analise-de-dados-financeira-com-python/blob/main/SoulCode_%2B_Gran_Curso_Phyton_Introdu%C3%A7%C3%A3o_a_An%C3%A1lise_de_Dados_Financeira_com_Python.ipynb\" target=\"_parent\"><img src=\"https://colab.research.google.com/assets/colab-badge.svg\" alt=\"Open In Colab\"/></a>"
      ]
    },
    {
      "cell_type": "markdown",
      "source": [
        "**Curso Phyton: Introdução a Análise de Dados Financeira com Python**\n"
      ],
      "metadata": {
        "id": "5c7Knk31kiVT"
      }
    },
    {
      "cell_type": "markdown",
      "source": [
        "#**Aula 01 – Preparação do Ambiente**"
      ],
      "metadata": {
        "id": "21-D1GQYwhaM"
      }
    },
    {
      "cell_type": "markdown",
      "source": [
        "Phtyon, Visual Code"
      ],
      "metadata": {
        "id": "fEgk24bHyhnC"
      }
    },
    {
      "cell_type": "markdown",
      "source": [
        "#**Aula 02 – Introdução a finanças com Python**"
      ],
      "metadata": {
        "id": "TCaTXx0NyvGT"
      }
    },
    {
      "cell_type": "markdown",
      "source": [
        "Introdução: Uso para o Mercado Financeiro"
      ],
      "metadata": {
        "id": "N_b3Uw01yzM_"
      }
    },
    {
      "cell_type": "markdown",
      "source": [
        "#**Aula 03 – Manipulação de dados com Ações Financeiras**"
      ],
      "metadata": {
        "id": "dqL1Yy-rzUms"
      }
    },
    {
      "cell_type": "markdown",
      "source": [
        "**Leitura de base de dados de ações financeiras online**"
      ],
      "metadata": {
        "id": "cp_mINgMzW6d"
      }
    },
    {
      "cell_type": "code",
      "source": [
        "#!pip install pandas\n",
        "#!pip install numpy\n",
        "#!pip install matplotlib\n",
        "#!pip install seaborn\n",
        "#!pip install plotly.express\n",
        "#!pip install yfinance\n",
        "#!pip install pandas-datareader\n",
        "\n",
        "import pandas as pd\n",
        "import numpy as np\n",
        "\n",
        "#import yfinance as yf\n",
        "#import pandas_datareader as pdr\n",
        "\n",
        "from pandas_datareader import data\n",
        "\n",
        "import matplotlib.pyplot as plt\n",
        "import seaborn as sns\n",
        "import plotly.express as px\n",
        "\n",
        "#data = yf.download\n",
        "#azul_df = data.DataReader(name= \"AZUL4.SA\", data_source = 'yahoo', start = '2017-01-01', end = '2017-12-31')\n",
        "azul_df = data.DataReader(name= \"AZUL4.SA\", data_source = 'yahoo', start = '2017-01-01')\n",
        "\n",
        "#display(azul_df) - Display é um visual melhor que o print\n",
        "print(azul_df)"
      ],
      "metadata": {
        "id": "dGqGEFyBBN-z"
      },
      "execution_count": null,
      "outputs": []
    },
    {
      "cell_type": "markdown",
      "source": [
        "**Análise de dados e estatística básica**"
      ],
      "metadata": {
        "id": "Vdvc6nd_A2-H"
      }
    },
    {
      "cell_type": "code",
      "source": [
        "#!pip install pandas\n",
        "#!pip install numpy\n",
        "#!pip install matplotlib\n",
        "#!pip install seaborn\n",
        "#!pip install plotly.express\n",
        "#!pip install yfinance\n",
        "#!pip install pandas-datareader\n",
        "\n",
        "import pandas as pd\n",
        "import numpy as np\n",
        "\n",
        "#import yfinance as yf\n",
        "#import pandas_datareader as pdr\n",
        "\n",
        "from pandas_datareader import data\n",
        "\n",
        "import matplotlib.pyplot as plt\n",
        "import seaborn as sns\n",
        "import plotly.express as px\n",
        "\n",
        "#data = yf.download\n",
        "#azul_df = data.DataReader(name= \"AZUL4.SA\", data_source = 'yahoo', start = '2017-01-01', end = '2017-12-31')\n",
        "azul_df = data.DataReader(name= \"AZUL4.SA\", data_source = 'yahoo', start = '2017-01-01')\n",
        "\n",
        "#display(azul_df) - Display é um visual melhor que o print\n",
        "#print(azul_df.info())\n",
        "#print(azul_df.head(3))\n",
        "#print(azul_df.tail(4))\n",
        "#print(azul_df.describe())\n",
        "#print(azul_df.[azul_df['Close'] >= 39.21])\n",
        "#print(azul_df.[azul_df['Close'] == 10.35])\n",
        "#print(azul_df.[(azul_df['Close'] >= 10.34) & (azul_df['Close'] <= 10.36)])\n",
        "\n",
        "#Para salvar o arquivo em CSV\n",
        "azul_df.csv('azul.csv')\n",
        "print(\"Dados salvos com Sucesso!\")"
      ],
      "metadata": {
        "id": "hhJf61LRA40Y"
      },
      "execution_count": null,
      "outputs": []
    },
    {
      "cell_type": "markdown",
      "source": [
        "**Leitura de base de dados com mais de uma ação financeira**"
      ],
      "metadata": {
        "id": "nMjb1GiULQeA"
      }
    },
    {
      "cell_type": "code",
      "source": [
        "#!pip install pandas\n",
        "#!pip install numpy\n",
        "#!pip install matplotlib\n",
        "#!pip install seaborn\n",
        "#!pip install plotly.express\n",
        "#!pip install yfinance\n",
        "#!pip install pandas-datareader\n",
        "\n",
        "import pandas as pd\n",
        "import numpy as np\n",
        "\n",
        "#import yfinance as yf\n",
        "#import pandas_datareader as pdr\n",
        "\n",
        "from pandas_datareader import data\n",
        "\n",
        "import matplotlib.pyplot as plt\n",
        "import seaborn as sns\n",
        "import plotly.express as px\n",
        "\n",
        "acoes = ['AMER3.SA', 'CVCB3.SA', 'WEGE3.SA','MGLU3.SA', 'VIIA3.SA', 'BOVA11.SA']\n",
        "\n",
        "acoes_df = pd.DataFrame()\n",
        "\n",
        "for acao in acoes:\n",
        "    acoes_df[acao] = data.DataReader(acao, data_source= 'yahoo', start='2015-01-01')['Close']\n",
        "\n",
        "acoes_df = acoes_df.rename(colums={'AMER3.SA':'AMERICANAS', 'CVCB3.SA':'CVC', 'WEGE3.SA':'WEG','MGLU3.SA':'MAGALU', 'VIIA3.SA':'VIA VAREJO', 'BOVA11.SA':'BOVESPA'})\n",
        "\n",
        "#print(acoes_df)\n",
        "#print(acoes_df.isnull())\n",
        "#print(acoes_df.isnull().sum())\n",
        "#print(acoes_df.columns[0:])\n",
        "#print(acoes_df.describe())\n",
        "\n",
        "acoes_df.to_csv('acoes.csv')\n",
        "print(\"Dados salvos com Sucesso!\")\n"
      ],
      "metadata": {
        "id": "WsUeojaQLSHR"
      },
      "execution_count": null,
      "outputs": []
    },
    {
      "cell_type": "markdown",
      "source": [
        "#**Aula 04 – Visualização de dados**"
      ],
      "metadata": {
        "id": "YQGtLRj1Qd5U"
      }
    },
    {
      "cell_type": "markdown",
      "source": [
        "**Visualização de Dados com Gráfico Histograma**"
      ],
      "metadata": {
        "id": "TBnvMiQfQkaO"
      }
    },
    {
      "cell_type": "code",
      "source": [
        "#!pip install pandas\n",
        "#!pip install numpy\n",
        "#!pip install matplotlib\n",
        "#!pip install seaborn\n",
        "#!pip install plotly.express\n",
        "#!pip install yfinance\n",
        "#!pip install pandas-datareader\n",
        "\n",
        "import pandas as pd\n",
        "import numpy as np\n",
        "\n",
        "#import yfinance as yf\n",
        "#import pandas_datareader as pdr\n",
        "\n",
        "from pandas_datareader import data\n",
        "\n",
        "import matplotlib.pyplot as plt\n",
        "import seaborn as sns\n",
        "import plotly.express as px\n",
        "\n",
        "acoes = ['AMER3.SA', 'CVCB3.SA', 'WEGE3.SA','MGLU3.SA', 'VIIA3.SA', 'BOVA11.SA']\n",
        "\n",
        "acoes_df = pd.DataFrame()\n",
        "\n",
        "for acao in acoes:\n",
        "    acoes_df[acao] = data.DataReader(acao, data_source= 'yahoo', start='2015-01-01')['Close']\n",
        "\n",
        "acoes_df = acoes_df.rename(colums={'AMER3.SA':'AMERICANAS', 'CVCB3.SA':'CVC', 'WEGE3.SA':'WEG','MGLU3.SA':'MAGALU', 'VIIA3.SA':'VIA VAREJO', 'BOVA11.SA':'BOVESPA'})\n",
        "\n",
        "#sns.histplot(acoes_df['AMERICANAS'])\n",
        "#Bins aumenta o tamanho das Barras\n",
        "#sns.histplot(acoes_df['AMERICANAS'], bins = 10);\n",
        "\n",
        "plt.figur(figsize=(10,50))\n",
        "\n",
        "i = 0\n",
        "\n",
        "#arange: o tamanho dos dados\n",
        "#len(acoes_df.colums) = desta forma não precisa contar a quantidade de colunas\n",
        "for i in np.arange(1, len(acoes_df.colums))\n",
        "    plt.subplot(7, 1, i+1)\n",
        "    sns.histplot(acoes_df[acoes_df.colums[i]])\n",
        "    plt.title(acoes_df.columns[i])\n",
        "\n",
        "plt.show()"
      ],
      "metadata": {
        "id": "GC-G6vlHQh-g"
      },
      "execution_count": null,
      "outputs": []
    },
    {
      "cell_type": "markdown",
      "source": [
        "**Visualização de Dados com Gráfico Boxplot**"
      ],
      "metadata": {
        "id": "kEK5ipkLYpp7"
      }
    },
    {
      "cell_type": "code",
      "source": [
        "#!pip install pandas\n",
        "#!pip install numpy\n",
        "#!pip install matplotlib\n",
        "#!pip install seaborn\n",
        "#!pip install plotly.express\n",
        "#!pip install yfinance\n",
        "#!pip install pandas-datareader\n",
        "\n",
        "import pandas as pd\n",
        "import numpy as np\n",
        "\n",
        "#import yfinance as yf\n",
        "#import pandas_datareader as pdr\n",
        "\n",
        "from pandas_datareader import data\n",
        "\n",
        "import matplotlib.pyplot as plt\n",
        "import seaborn as sns\n",
        "import plotly.express as px\n",
        "\n",
        "acoes = ['AMER3.SA', 'CVCB3.SA', 'WEGE3.SA','MGLU3.SA', 'VIIA3.SA', 'BOVA11.SA']\n",
        "\n",
        "acoes_df = pd.DataFrame()\n",
        "\n",
        "for acao in acoes:\n",
        "    acoes_df[acao] = data.DataReader(acao, data_source= 'yahoo', start='2015-01-01')['Close']\n",
        "\n",
        "acoes_df = acoes_df.rename(colums={'AMER3.SA':'AMERICANAS', 'CVCB3.SA':'CVC', 'WEGE3.SA':'WEG','MGLU3.SA':'MAGALU', 'VIIA3.SA':'VIA VAREJO', 'BOVA11.SA':'BOVESPA'})\n",
        "\n",
        "print(acoes_df['AMERICANAS'].describe())\n",
        "sns.boxplot(x=acoes_df['AMERICANAS'])\n",
        "\n",
        "plt.figure(figsize=(10,50))\n",
        "\n",
        "i = 1\n",
        "\n",
        "for i in np.arange(1, len(acoes_df.colums))\n",
        "    plt.subplot(7, 1, i+1)\n",
        "    sns.boxplot(acoes_df[acoes_df.colums[i]])\n",
        "    plt.title(acoes_df.columns[i])\n",
        "\n",
        "plt.show()"
      ],
      "metadata": {
        "id": "hH-koJ08Yrsf"
      },
      "execution_count": null,
      "outputs": []
    },
    {
      "cell_type": "markdown",
      "source": [
        "**Visualização de Dados com Gráfico de Linhas**"
      ],
      "metadata": {
        "id": "7mYndKuWanDj"
      }
    },
    {
      "cell_type": "code",
      "source": [
        "#!pip install pandas\n",
        "#!pip install numpy\n",
        "#!pip install matplotlib\n",
        "#!pip install seaborn\n",
        "#!pip install plotly.express\n",
        "#!pip install yfinance\n",
        "#!pip install pandas-datareader\n",
        "\n",
        "import pandas as pd\n",
        "import numpy as np\n",
        "\n",
        "#import yfinance as yf\n",
        "#import pandas_datareader as pdr\n",
        "\n",
        "from pandas_datareader import data\n",
        "\n",
        "import matplotlib.pyplot as plt\n",
        "import seaborn as sns\n",
        "import plotly.express as px\n",
        "\n",
        "acoes = ['AMER3.SA', 'CVCB3.SA', 'WEGE3.SA','MGLU3.SA', 'VIIA3.SA', 'BOVA11.SA']\n",
        "\n",
        "acoes_df = pd.DataFrame()\n",
        "\n",
        "for acao in acoes:\n",
        "    acoes_df[acao] = data.DataReader(acao, data_source= 'yahoo', start='2015-01-01')['Close']\n",
        "\n",
        "acoes_df = acoes_df.rename(colums={'AMER3.SA':'AMERICANAS', 'CVCB3.SA':'CVC', 'WEGE3.SA':'WEG','MGLU3.SA':'MAGALU', 'VIIA3.SA':'VIA VAREJO', 'BOVA11.SA':'BOVESPA'})\n",
        "\n",
        "acoes_df.plot(figsize=(15,7), title='Histórico das Ações');"
      ],
      "metadata": {
        "id": "F_nrg9UZv31J"
      },
      "execution_count": null,
      "outputs": []
    },
    {
      "cell_type": "markdown",
      "source": [
        "**Normalização de Dados para Análise Real**"
      ],
      "metadata": {
        "id": "ZatiGffswwGU"
      }
    },
    {
      "cell_type": "code",
      "source": [
        "#!pip install pandas\n",
        "#!pip install numpy\n",
        "#!pip install matplotlib\n",
        "#!pip install seaborn\n",
        "#!pip install plotly.express\n",
        "#!pip install yfinance\n",
        "#!pip install pandas-datareader\n",
        "\n",
        "import pandas as pd\n",
        "import numpy as np\n",
        "\n",
        "#import yfinance as yf\n",
        "#import pandas_datareader as pdr\n",
        "\n",
        "from pandas_datareader import data\n",
        "\n",
        "import matplotlib.pyplot as plt\n",
        "import seaborn as sns\n",
        "import plotly.express as px\n",
        "\n",
        "acoes = ['AMER3.SA', 'CVCB3.SA', 'WEGE3.SA','MGLU3.SA', 'VIIA3.SA', 'BOVA11.SA']\n",
        "\n",
        "acoes_df = pd.DataFrame()\n",
        "\n",
        "for acao in acoes:\n",
        "    acoes_df[acao] = data.DataReader(acao, data_source= 'yahoo', start='2015-01-01')['Close']\n",
        "\n",
        "acoes_df = acoes_df.rename(colums={'AMER3.SA':'AMERICANAS', 'CVCB3.SA':'CVC', 'WEGE3.SA':'WEG','MGLU3.SA':'MAGALU', 'VIIA3.SA':'VIA VAREJO', 'BOVA11.SA':'BOVESPA'})\n",
        "\n",
        "#print(acoes_df)\n",
        "#acoes_df.plot(figsize=(15,7), title='Histórico das Ações');\n",
        "\n",
        "acoes_df_normalizado = acoes_df.copy()\n",
        "\n",
        "for i in acoes_df_normalizado.columns[0:]:\n",
        "    acoes_df_normalizado[i] = acoes_df_normalizado[i]/acoes_df_normalizado[i][0]\n",
        "\n",
        "#print(acoes_df_normalizado)\n",
        "acoes_df_normalizado.plot(figsize=(15,7), title='Histórico das Ações (Normalizados)');"
      ],
      "metadata": {
        "id": "gTaInKADw17-"
      },
      "execution_count": null,
      "outputs": []
    },
    {
      "cell_type": "markdown",
      "source": [
        "**Visualização de ações com Gráficos Dinâmicos**"
      ],
      "metadata": {
        "id": "G78v-6xc18FN"
      }
    },
    {
      "cell_type": "code",
      "source": [
        "#!pip install pandas\n",
        "#!pip install numpy\n",
        "#!pip install matplotlib\n",
        "#!pip install seaborn\n",
        "#!pip install plotly.express\n",
        "#!pip install yfinance\n",
        "#!pip install pandas-datareader\n",
        "\n",
        "import pandas as pd\n",
        "import numpy as np\n",
        "\n",
        "#import yfinance as yf\n",
        "#import pandas_datareader as pdr\n",
        "\n",
        "from pandas_datareader import data\n",
        "\n",
        "import matplotlib.pyplot as plt\n",
        "import seaborn as sns\n",
        "import plotly.express as px\n",
        "\n",
        "acoes = ['AMER3.SA', 'CVCB3.SA', 'WEGE3.SA','MGLU3.SA', 'VIIA3.SA', 'BOVA11.SA']\n",
        "\n",
        "acoes_df = pd.DataFrame()\n",
        "\n",
        "for acao in acoes:\n",
        "    acoes_df[acao] = data.DataReader(acao, data_source= 'yahoo', start='2015-01-01')['Close']\n",
        "\n",
        "acoes_df = acoes_df.rename(colums={'AMER3.SA':'AMERICANAS', 'CVCB3.SA':'CVC', 'WEGE3.SA':'WEG','MGLU3.SA':'MAGALU', 'VIIA3.SA':'VIA VAREJO', 'BOVA11.SA':'BOVESPA'})\n",
        "\n",
        "acoes_df_normalizado = acoes_df.copy()\n",
        "\n",
        "for i in acoes_df_normalizado.columns[0:]:\n",
        "    acoes_df_normalizado[i] = acoes_df_normalizado[i]/acoes_df_normalizado[i][0]\n",
        "\n",
        "figura = px.line(title = 'Histórico dos Preços das Ações')\n",
        "\n",
        "for i in acoes_df.columns[1:]:\n",
        "    figura.add_scatter(x = acoes_df.index, y = acoes_df[i], name = i)\n",
        "\n",
        "figura.show()\n",
        "\n",
        "figura1 = px.line(title = 'Histórico dos Preços das Ações (Normalizado)')\n",
        "\n",
        "for j in acoes_df_normalizado[1:]:\n",
        "    figura1.add_scatter(x = acoes_df_normalizado.index, y = acoes_df_normalizado[j], name = j)\n",
        "\n",
        "figura1.show()"
      ],
      "metadata": {
        "id": "ooA_FeY_2QON"
      },
      "execution_count": null,
      "outputs": []
    },
    {
      "cell_type": "markdown",
      "source": [
        "**EXERCICIO PRÁTICO**\n",
        "\n",
        "Faça a leitura das bases de dados abaixo, e depois faça o que se pede em seguida:\n",
        "\n",
        "\n",
        "Bradesco\n",
        "\n",
        "Banco do Brasil\n",
        "\n",
        "Nubank\n",
        "\n",
        "Itaú\n",
        "\n",
        "Caixa Seguridade Participações\n",
        "\n",
        "BOVA11\n",
        "\n",
        "Sete o intervalo de 01/03/2019 até 31/12/2021.\n",
        "\n",
        "Nomeie todas as colunas de modo a ficar simples a visualização.\n",
        "\n",
        "Crie pelo menos um gráfico de cada um dos estudados, para as ações acima.\n",
        "\n",
        "Normalize os dados das ações, e julgue a que achar mais rentável.\n",
        "\n",
        "Por exemplo, ao final do seu intervalo de tempo, em qual você teria ganho mais dinheiro se investisse?\n",
        "\n",
        "\n",
        "*Lembre-se de sempre buscar as ações brasileiras."
      ],
      "metadata": {
        "id": "_pi6xTf744W1"
      }
    },
    {
      "cell_type": "code",
      "source": [
        "#!pip install pandas\n",
        "#!pip install numpy\n",
        "#!pip install matplotlib\n",
        "#!pip install seaborn\n",
        "#!pip install plotly.express\n",
        "#!pip install yfinance\n",
        "#!pip install pandas-datareader\n",
        "\n",
        "import pandas as pd\n",
        "import numpy as np\n",
        "\n",
        "#import yfinance as yf\n",
        "#import pandas_datareader as pdr\n",
        "\n",
        "from pandas_datareader import data\n",
        "\n",
        "import matplotlib.pyplot as plt\n",
        "import seaborn as sns\n",
        "import plotly.express as px\n",
        "\n",
        "acoes = ['BBDC3.SA', 'BBAS3.SA', 'NUBR33.SA','ITUB3.SA', 'CXSE3.SA', 'BOVA11.SA']\n",
        "\n",
        "acoes_df = pd.DataFrame()\n",
        "\n",
        "for acao in acoes:\n",
        "    acoes_df[acao] = data.DataReader(acao, data_source= 'yahoo', start='2019-03-01', end='2021-12-31')['Close']\n",
        "\n",
        "acoes_df = acoes_df.rename(colums={'BBDC3.SA':'Bradesco', 'BBAS3.SA':'Banco do Brasil', 'NUBR33.SA':'NuBank','ITUB3.SA':'Itaú', 'CXSE3.SA':'Caixa Seguridade Participações', 'BOVA11.SA':'BOVESPA'})\n",
        "\n",
        "acoes_df_normalizado = acoes_df.copy()\n",
        "\n",
        "for i in acoes_df_normalizado.columns[0:]:\n",
        "    acoes_df_normalizado[i] = acoes_df_normalizado[i]/acoes_df_normalizado[i][0]\n",
        "\n",
        "figura = px.line(title = 'Histórico dos Preços das Ações')\n",
        "\n",
        "for i in acoes_df.columns[1:]:\n",
        "    figura.add_scatter(x = acoes_df.index, y = acoes_df[i], name = i)\n",
        "\n",
        "figura.show()\n",
        "\n",
        "figura1 = px.line(title = 'Histórico dos Preços das Ações (Normalizado)')\n",
        "\n",
        "for j in acoes_df_normalizado[1:]:\n",
        "    figura1.add_scatter(x = acoes_df_normalizado.index, y = acoes_df_normalizado[j], name = j)\n",
        "\n",
        "figura1.show()"
      ],
      "metadata": {
        "id": "uuIcgXxR64k5"
      },
      "execution_count": null,
      "outputs": []
    },
    {
      "cell_type": "markdown",
      "source": [
        "#**Aula 05 – Calculando Taxas de Retorno**"
      ],
      "metadata": {
        "id": "vAT9piZH68Bc"
      }
    },
    {
      "cell_type": "markdown",
      "source": [
        "**Considerações/Verificando sobre Taxas de Retorno Simples**"
      ],
      "metadata": {
        "id": "w4aZpHSB7M29"
      }
    },
    {
      "cell_type": "code",
      "source": [
        "#!pip install pandas\n",
        "#!pip install numpy\n",
        "#!pip install plotly\n",
        "#!pip install plotly.express\n",
        "\n",
        "import pandas as pd\n",
        "import numpy as np\n",
        "import plotly.express as px\n",
        "\n",
        "dataset = pd.read_csv('acoes.csv')\n",
        "\n",
        "#print(dataset.shape)\n",
        "#print(dataset)\n",
        "\n",
        "#print(dataset['AMERICANAS'][0])\n",
        "#print(dataset['AMERICANAS'][len(dataset)-1])\n",
        "\n",
        "rs_americanas = ((dataset['AMERICANAS'][len(dataset)-1])-dataset['AMERICANAS'][0]/dataset['AMERICANAS'][0])*100\n",
        "print(rs_americanas)\n",
        "\n",
        "rs_cvc = ((dataset['CVC'][len(dataset)-1])-dataset['CVC'][0]/dataset['CVC'][0])*100\n",
        "print(rs_cvc)\n",
        "\n",
        "rs_weg = ((dataset['WEG'][len(dataset)-1])-dataset['WEG'][0]/dataset['WEG'][0])*100\n",
        "print(rs_weg)\n",
        "\n",
        "rs_magalu = ((dataset['MAGALU'][len(dataset)-1])-dataset['MAGALU'][0]/dataset['MAGALU'][0])*100\n",
        "print(rs_magalu)\n",
        "\n",
        "rs_via = ((dataset['VIA VAREJO'][len(dataset)-1])-dataset['VIA VAREJO'][0]/dataset['VIA VAREJO'][0])*100\n",
        "print(rs_via)\n",
        "\n",
        "rs_bova = ((dataset['BOVESPA'][len(dataset)-1])-dataset['BOVESPA'][0]/dataset['BOVESPA'][0])*100\n",
        "print(rs_bova)\n",
        "\n",
        "#Forma reduzida\n",
        "\n",
        "rs_americanas_re = (dataset['AMERICANAS'][len(dataset)-1]/dataset['AMERICANAS'][0]-1)*100\n",
        "print(rs_americanas_re)\n",
        "\n",
        "rs_cvc_re = (dataset['CVC'][len(dataset)-1]/dataset['CVC'][0]-1)*100\n",
        "print(rs_cvc_re)\n",
        "\n",
        "rs_weg_re = (dataset['WEG'][len(dataset)-1]/dataset['WEG'][0]-1)*100\n",
        "print(rs_weg_re)\n",
        "\n",
        "rs_magalu_re = (dataset['MAGALU'][len(dataset)-1]/dataset['MAGALU'][0]-1)*100\n",
        "print(rs_magalu_re)\n",
        "\n",
        "rs_via_re = (dataset['VIA VAREJO'][len(dataset)-1]/dataset['VIA VAREJO'][0]-1)*100\n",
        "print(rs_via_re)\n",
        "\n",
        "rs_bova_re = (dataset['BOVESPA'][len(dataset)-1]/dataset['BOVESPA'][0]-1)*100\n",
        "print(rs_bova_re)"
      ],
      "metadata": {
        "id": "rk-EXWMP7CLC"
      },
      "execution_count": null,
      "outputs": []
    },
    {
      "cell_type": "markdown",
      "source": [
        "**Verificando Taxa de Retorno Diária**"
      ],
      "metadata": {
        "id": "fHo3S4eImGGz"
      }
    },
    {
      "cell_type": "code",
      "source": [
        "#!pip install pandas\n",
        "#!pip install numpy\n",
        "#!pip install plotly\n",
        "#!pip install plotly.express\n",
        "#!pip install matplotlib\n",
        "\n",
        "import pandas as pd\n",
        "import numpy as np\n",
        "import plotly.express as px\n",
        "\n",
        "from matplotlib.pyplot import plot\n",
        "\n",
        "dataset = pd.read_csv('acoes.csv')\n",
        "\n",
        "#print(dataset['AMERICANAS'])\n",
        "#print(dataset['AMERICANAS'].shift(1))\n",
        "\n",
        "dataset['RS AMERICANAS'] = (dataset['AMERICANAS']/dataset['AMERICANAS'].shift(1))-1\n",
        "#print(dataset)\n",
        "\n",
        "dataset['RS AMERICANAS'].plot();\n",
        "print(dataset['RS AMERICANAS'].mean())\n",
        "\n",
        "dataset['RS CVC'] = (dataset['CVC']/dataset['CVC'].shift(1))-1\n",
        "\n",
        "dataset['RS CVC'].plot();\n",
        "print(dataset['RS CVC'].mean())\n",
        "\n",
        "dataset['RS WEG'] = (dataset['WEG']/dataset['WEG'].shift(1))-1\n",
        "\n",
        "dataset['RS WEG'].plot();\n",
        "print(dataset['RS WEG'].mean())\n",
        "\n",
        "dataset['RS MAGALU'] = (dataset['MAGALU']/dataset['MAGALU'].shift(1))-1\n",
        "\n",
        "dataset['RS MAGALU'].plot();\n",
        "print(dataset['RS MAGALU'].mean())\n",
        "\n",
        "dataset['RS VIA VAREJO'] = (dataset['VIA VAREJO']/dataset['VIA VAREJO'].shift(1))-1\n",
        "\n",
        "dataset['RS VIA VAREJO'].plot();\n",
        "print(dataset['RS VIA VAREJO'].mean())\n",
        "\n",
        "dataset['RS BOVESPA'] = (dataset['BOVESPA']/dataset['BOVESPA'].shift(1))-1\n",
        "\n",
        "dataset['RS BOVESPA'].plot();\n",
        "print(dataset['RS BOVESPA'].mean())"
      ],
      "metadata": {
        "id": "9bUdCksimZsE"
      },
      "execution_count": null,
      "outputs": []
    },
    {
      "cell_type": "markdown",
      "source": [
        "**Verificando Taxa de Retorno Anual**"
      ],
      "metadata": {
        "id": "Wqxd1I9QqUsY"
      }
    },
    {
      "cell_type": "code",
      "source": [
        "#!pip install pandas\n",
        "#!pip install numpy\n",
        "#!pip install plotly\n",
        "#!pip install plotly.express\n",
        "#!pip install matplotlib\n",
        "\n",
        "import pandas as pd\n",
        "import numpy as np\n",
        "import plotly.express as px\n",
        "\n",
        "from matplotlib.pyplot import plot\n",
        "\n",
        "dataset = pd.read_csv('acoes.csv')\n",
        "\n",
        "#print(dataset['AMERICANAS'])\n",
        "#print(dataset['AMERICANAS'].shift(1))\n",
        "\n",
        "dataset['RS AMERICANAS'] = (dataset['AMERICANAS']/dataset['AMERICANAS'].shift(1))-1\n",
        "#print(dataset)\n",
        "\n",
        "#dataset['RS AMERICANAS'].plot();\n",
        "#print(dataset['RS AMERICANAS'].mean())\n",
        "\n",
        "#===================================================\n",
        "\n",
        "#print((dataset['RS AMERICANAS'].mean()*365)*100)\n",
        "#print((dataset.head(246))\n",
        "\n",
        "print((dataset['RS AMERICANAS'].mean()*246)*100)\n",
        "\n",
        "# =======================================================\n",
        "\n",
        "dataset['RS CVC'] = (dataset['CVC']/dataset['CVC'].shift(1))-1\n",
        "\n",
        "dataset['RS CVC'].plot();\n",
        "print(dataset['RS CVC'].mean())\n",
        "\n",
        "print((dataset['RS CVC'].mean()*246)*100)\n",
        "\n",
        "# =======================================================\n",
        "\n",
        "dataset['RS WEG'] = (dataset['WEG']/dataset['WEG'].shift(1))-1\n",
        "\n",
        "dataset['RS WEG'].plot();\n",
        "print(dataset['RS WEG'].mean())\n",
        "\n",
        "print((dataset['RS WEG'].mean()*246)*100)\n",
        "\n",
        "# =======================================================\n",
        "\n",
        "dataset['RS MAGALU'] = (dataset['MAGALU']/dataset['MAGALU'].shift(1))-1\n",
        "\n",
        "dataset['RS MAGALU'].plot();\n",
        "print(dataset['RS MAGALU'].mean())\n",
        "\n",
        "print((dataset['RS MAGALU'].mean()*246)*100)\n",
        "\n",
        "# =======================================================\n",
        "\n",
        "dataset['RS VIA VAREJO'] = (dataset['VIA VAREJO']/dataset['VIA VAREJO'].shift(1))-1\n",
        "\n",
        "dataset['RS VIA VAREJO'].plot();\n",
        "print(dataset['RS VIA VAREJO'].mean())\n",
        "\n",
        "print((dataset['RS VIA VAREJO'].mean()*246)*100)\n",
        "\n",
        "# =======================================================\n",
        "\n",
        "dataset['RS BOVESPA'] = (dataset['BOVESPA']/dataset['BOVESPA'].shift(1))-1\n",
        "\n",
        "dataset['RS BOVESPA'].plot();\n",
        "print(dataset['RS BOVESPA'].mean())\n",
        "\n",
        "print((dataset['RS BOVESPA'].mean()*246)*100)"
      ],
      "metadata": {
        "id": "X5qjrCeoqeaH"
      },
      "execution_count": null,
      "outputs": []
    },
    {
      "cell_type": "markdown",
      "source": [
        "**Considerações/Verificando  sobre Taxas de Retorno Logarítmica**"
      ],
      "metadata": {
        "id": "g0lOxqIKtH6c"
      }
    },
    {
      "cell_type": "code",
      "source": [
        "#!pip install pandas\n",
        "#!pip install numpy\n",
        "\n",
        "import pandas as pd\n",
        "import numpy as np\n",
        "\n",
        "dataset = pd.read_csv('acoes.csv')\n",
        "\n",
        "rl_americanas = np.log(dataset['AMERICANAS'][len(dataset)-1]/dataset['AMERICANAS'][0])*100\n",
        "\n",
        "print(rl_americanas)\n",
        "\n",
        "# =======================================================\n",
        "\n",
        "rl_cvc = np.log(dataset['CVC'][len(dataset)-1]/dataset['CVC'][0])*100\n",
        "\n",
        "print(rl_cvc)\n",
        "\n",
        "# =======================================================\n",
        "\n",
        "rl_weg = np.log(dataset['WEG'][len(dataset)-1]/dataset['WEG'][0])*100\n",
        "\n",
        "print(rl_weg)\n",
        "\n",
        "# =======================================================\n",
        "\n",
        "rl_magalu = np.log(dataset['MAGALU'][len(dataset)-1]/dataset['MAGALU'][0])*100\n",
        "\n",
        "print(rl_magalu)\n",
        "\n",
        "# =======================================================\n",
        "\n",
        "rl_via = np.log(dataset['VIA VAREJO'][len(dataset)-1]/dataset['VIA VAREJO'][0])*100\n",
        "\n",
        "print(rl_via)\n",
        "\n",
        "# =======================================================\n",
        "\n",
        "rl_bova = np.log(dataset['BOVESPA'][len(dataset)-1]/dataset['BOVESPA'][0])*100\n",
        "\n",
        "print(rl_bova)"
      ],
      "metadata": {
        "id": "HvDKJhultM06"
      },
      "execution_count": null,
      "outputs": []
    },
    {
      "cell_type": "markdown",
      "source": [
        "**Verificando Taxa de Retorno Logarítmica Diária e Anual**"
      ],
      "metadata": {
        "id": "GnvD3Eg3v7xB"
      }
    },
    {
      "cell_type": "code",
      "source": [
        "#!pip install pandas\n",
        "#!pip install numpy\n",
        "#!pip install matplotlib\n",
        "#!pip install matplotlib.pyplot\n",
        "\n",
        "import pandas as pd\n",
        "import numpy as np\n",
        "\n",
        "from matplotlib.pyplot import plot\n",
        "\n",
        "import plotly.express as px\n",
        "\n",
        "dataset = pd.read_csv('acoes.csv')\n",
        "\n",
        "rl_americanas = np.log(dataset['AMERICANAS'][len(dataset)-1]/dataset['AMERICANAS'][0])*100\n",
        "\n",
        "print(rl_americanas)\n",
        "\n",
        "#Taxa de Retorno Logaritmica Diária\n",
        "dataset['RL AMERICANAS'] = np.log(dataset['AMERICANAS']/dataset['AMERICANAS'].shift())\n",
        "dataset['RL AMERICANAS'].plot();\n",
        "\n",
        "#Média\n",
        "print(dataset['RL AMERICANAS'].mean())\n",
        "\n",
        "#Taxa de Retorno Logaritmica Anual\n",
        "print((dataset['RL AMERICANAS'].mean()*246)*100)\n",
        "\n",
        "# =======================================================\n",
        "\n",
        "rl_cvc = np.log(dataset['CVC'][len(dataset)-1]/dataset['CVC'][0])*100\n",
        "\n",
        "print(rl_cvc)\n",
        "\n",
        "#Taxa de Retorno Logaritmica Diária\n",
        "dataset['RL CVC'] = np.log(dataset['CVC']/dataset['CVC'].shift())\n",
        "dataset['RL CVC'].plot();\n",
        "\n",
        "#Média\n",
        "print(dataset['RL CVC'].mean())\n",
        "\n",
        "#Taxa de Retorno Logaritmica Anual\n",
        "print((dataset['RL CVC'].mean()*246)*100)\n",
        "\n",
        "# =======================================================\n",
        "\n",
        "rl_weg = np.log(dataset['WEG'][len(dataset)-1]/dataset['WEG'][0])*100\n",
        "\n",
        "print(rl_weg)\n",
        "\n",
        "#Taxa de Retorno Logaritmica Diária\n",
        "dataset['RL WEG'] = np.log(dataset['WEG']/dataset['WEG'].shift())\n",
        "dataset['RL WEG'].plot();\n",
        "\n",
        "#Média\n",
        "print(dataset['RL WEG'].mean())\n",
        "\n",
        "#Taxa de Retorno Logaritmica Anual\n",
        "print((dataset['RL WEG'].mean()*246)*100)\n",
        "\n",
        "# =======================================================\n",
        "\n",
        "rl_magalu = np.log(dataset['MAGALU'][len(dataset)-1]/dataset['MAGALU'][0])*100\n",
        "\n",
        "print(rl_magalu)\n",
        "\n",
        "#Taxa de Retorno Logaritmica Diária\n",
        "dataset['RL MAGALU'] = np.log(dataset['MAGALU']/dataset['MAGALU'].shift())\n",
        "dataset['RL MAGALU'].plot();\n",
        "\n",
        "#Média\n",
        "print(dataset['RL MAGALU'].mean())\n",
        "\n",
        "#Taxa de Retorno Logaritmica Anual\n",
        "print((dataset['RL MAGALU'].mean()*246)*100)\n",
        "\n",
        "# =======================================================\n",
        "\n",
        "rl_via = np.log(dataset['VIA VAREJO'][len(dataset)-1]/dataset['VIA VAREJO'][0])*100\n",
        "\n",
        "print(rl_via)\n",
        "\n",
        "#Taxa de Retorno Logaritmica Diária\n",
        "dataset['RL VIA VAREJO'] = np.log(dataset['VIA VAREJO']/dataset['VIA VAREJO'].shift())\n",
        "dataset['RL VIA VAREJO'].plot();\n",
        "\n",
        "#Média\n",
        "print(dataset['RL VIA VAREJO'].mean())\n",
        "\n",
        "#Taxa de Retorno Logaritmica Anual\n",
        "print((dataset['RL VIA VAREJO'].mean()*246)*100)\n",
        "\n",
        "# =======================================================\n",
        "\n",
        "rl_bova = np.log(dataset['BOVESPA'][len(dataset)-1]/dataset['BOVESPA'][0])*100\n",
        "\n",
        "print(rl_bova)\n",
        "\n",
        "#Taxa de Retorno Logaritmica Diária\n",
        "dataset['RL BOVESPA'] = np.log(dataset['BOVESPA']/dataset['BOVESPA'].shift())\n",
        "dataset['RL BOVESPA'].plot();\n",
        "\n",
        "#Média\n",
        "print(dataset['RL BOVESPA'].mean())\n",
        "\n",
        "#Taxa de Retorno Logaritmica Anual\n",
        "print((dataset['RL BOVESPA'].mean()*246)*100)"
      ],
      "metadata": {
        "id": "aQsSIRPRwAhj"
      },
      "execution_count": null,
      "outputs": []
    },
    {
      "cell_type": "markdown",
      "source": [
        "**Implementação da Taxa de Retorno em Carteira de Ações**"
      ],
      "metadata": {
        "id": "eak8mQHo0UMv"
      }
    },
    {
      "cell_type": "code",
      "source": [
        "#!pip install pandas\n",
        "#!pip install numpy\n",
        "#!pip install matplotlib\n",
        "#!pip install matplotlib.pyplot\n",
        "\n",
        "import pandas as pd\n",
        "import numpy as np\n",
        "\n",
        "from matplotlib.pyplot import plot\n",
        "\n",
        "import plotly.express as px\n",
        "\n",
        "dataset = pd.read_csv('acoes.csv')\n",
        "\n",
        "dataset_normalizado = dataset.copy()\n",
        "\n",
        "for i in dataset_normalizado.columns[1:]:\n",
        "    dataset_normalizado[i] = (dataset_normalizado[i]/dataset_normalizado[i][0])\n",
        "\n",
        "#dataset_normalizado.plot(x='Data', figsize=(15,7))\n",
        "\n",
        "#Deletamos a Label Date\n",
        "dataset_normalizado.drop(labels=['Date'], axis= 1, inplace= True)\n",
        "\n",
        "#Taxa de Retorno Simples\n",
        "retorno_carteira = (dataset_normalizado/dataset_normalizado.shift(1))-1\n",
        "retorno_carteira.head()\n",
        "\n",
        "#Taxa de Retorno Anual\n",
        "retorno_anual = (retorno_carteira.mean()*246)*100\n",
        "print(retorno_anual)"
      ],
      "metadata": {
        "id": "p9-NgChG0XLp"
      },
      "execution_count": null,
      "outputs": []
    },
    {
      "cell_type": "markdown",
      "source": [
        "**Calculando Taxa de Retorno de Carteiras**"
      ],
      "metadata": {
        "id": "219CwTVG3a0L"
      }
    },
    {
      "cell_type": "code",
      "source": [
        "#!pip install pandas\n",
        "#!pip install numpy\n",
        "#!pip install matplotlib\n",
        "#!pip install matplotlib.pyplot\n",
        "\n",
        "import pandas as pd\n",
        "import numpy as np\n",
        "\n",
        "from matplotlib.pyplot import plot\n",
        "\n",
        "import plotly.express as px\n",
        "\n",
        "dataset = pd.read_csv('acoes.csv')\n",
        "\n",
        "dataset_normalizado = dataset.copy()\n",
        "\n",
        "for i in dataset_normalizado.columns[1:]:\n",
        "    dataset_normalizado[i] = (dataset_normalizado[i]/dataset_normalizado[i][0])\n",
        "\n",
        "#dataset_normalizado.plot(x='Data', figsize=(15,7))\n",
        "\n",
        "#Deletamos a Label Date\n",
        "dataset_normalizado.drop(labels=['Date'], axis= 1, inplace= True)\n",
        "\n",
        "#Taxa de Retorno Simples\n",
        "retorno_carteira = (dataset_normalizado/dataset_normalizado.shift(1))-1\n",
        "retorno_carteira.head()\n",
        "\n",
        "#Taxa de Retorno Anual\n",
        "retorno_anual = (retorno_carteira.mean()*246)*100\n",
        "print(retorno_anual)\n",
        "\n",
        "# ================================================\n",
        "\n",
        "#Peso para cada Ação: Americanas(0.2), CVC(0.2), WEG(0.2), Magalu(0.2), Via(0.2), BOVA(0.0)\n",
        "pesos_carteira1 = np.array([0.2, 0.2, 0.2, 0.2, 0.2, 0.0])\n",
        "#pesos_carteira1.sum()\n",
        "\n",
        "print(np.dot(retorno_anual, pesos_carteira1))\n",
        "\n",
        "pesos_carteira2 = np.array([0.1, 0.2, 0.2, 0.4, 0.1, 0.0])\n",
        "\n",
        "#Validamos para verifica se o Peso estão resultando o valor 1.0\n",
        "#pesos_carteira2.sum()\n",
        "\n",
        "print(np.dot(retorno_anual, pesos_carteira2))"
      ],
      "metadata": {
        "id": "1CEgLpxS3dhU"
      },
      "execution_count": null,
      "outputs": []
    },
    {
      "cell_type": "markdown",
      "source": [
        "**Comparando Fundo de Ações com a Bovespa**"
      ],
      "metadata": {
        "id": "IsfLErBzFd9J"
      }
    },
    {
      "cell_type": "code",
      "source": [
        "#!pip install pandas\n",
        "#!pip install numpy\n",
        "#!pip install matplotlib\n",
        "#!pip install matplotlib.pyplot\n",
        "\n",
        "import pandas as pd\n",
        "import numpy as np\n",
        "\n",
        "from matplotlib.pyplot import plot\n",
        "\n",
        "import plotly.express as px\n",
        "\n",
        "dataset = pd.read_csv('acoes.csv')\n",
        "\n",
        "dataset_normalizado = dataset.copy()\n",
        "\n",
        "for i in dataset_normalizado.columns[1:]:\n",
        "    dataset_normalizado[i] = (dataset_normalizado[i]/dataset_normalizado[i][0])\n",
        "\n",
        "dataset_normalizado['CARTEIRA'] = (dataset_normalizado['AMERICANAS']+dataset_normalizado['CVC']+dataset_normalizado['WEG']+dataset_normalizado['MAGALU']+dataset_normalizado['VIA VAREJO']/5)\n",
        "#dataset_normalizado.head()\n",
        "\n",
        "figura = px.line(title = 'Comparativo Carteira x BOVA')\n",
        "\n",
        "for i in dataset_normalizado.columns[1:]:\n",
        "    figura.add_scatter(x = dataset_normalizado['Date'], y= dataset_normalizado[i], name=i)\n",
        "\n",
        "figura.show()\n",
        "\n",
        "dataset_normalizado.drop(['AMERICANA', 'CVC', 'WEG', 'MAGALU', 'VIA VAREJO'], axis= 1, inplace= True)\n",
        "\n",
        "figura = px.line(title = 'Comparativo Carteira x BOVA')\n",
        "\n",
        "for i in dataset_normalizado.columns[1:]:\n",
        "    figura.add_scatter(x = dataset_normalizado['Date'], y= dataset_normalizado[i], name=i)\n",
        "\n",
        "figura.show()\n"
      ],
      "metadata": {
        "id": "tuhz_b-6Fh4B"
      },
      "execution_count": null,
      "outputs": []
    },
    {
      "cell_type": "markdown",
      "source": [
        "**EXERCICIO PRÁTICO**\n",
        "\n",
        "\n",
        "Usando a base de dados gerada no EXERÍCIO PRÁTICO da aula 14, calcule as taxas de retorno desta carteira de ações e faça a comparação da mesma através de um gráfico, com as ações da Bovespa.\n",
        "\n",
        "De acordo com seu gráfico, qual é mais vantajosa de se investir, sua carteira de ações ou a BOVA11?\n",
        "\n",
        "Justifique!"
      ],
      "metadata": {
        "id": "yajjPjhiJnSC"
      }
    },
    {
      "cell_type": "code",
      "source": [
        "#!pip install pandas\n",
        "#!pip install numpy\n",
        "#!pip install matplotlib\n",
        "#!pip install matplotlib.pyplot\n",
        "\n",
        "import pandas as pd\n",
        "import numpy as np\n",
        "\n",
        "from matplotlib.pyplot import plot\n",
        "\n",
        "import plotly.express as px\n",
        "\n",
        "dataset = pd.read_csv('acoes1.csv')\n",
        "\n",
        "dataset_normalizado = dataset.copy()\n",
        "\n",
        "for i in dataset_normalizado.columns[1:]:\n",
        "    dataset_normalizado[i] = (dataset_normalizado[i]/dataset_normalizado[i][0])\n",
        "\n",
        "\n",
        "dataset_normalizado['CARTEIRA'] = (dataset_normalizado['Bradesco']+dataset_normalizado['Banco do Brasil']+dataset_normalizado['NuBank']+dataset_normalizado['Itaú']+dataset_normalizado['Caixa Seguridade Participações']/5)\n",
        "#dataset_normalizado.head()\n",
        "\n",
        "figura = px.line(title = 'Comparativo Carteira x BOVA')\n",
        "\n",
        "for i in dataset_normalizado.columns[1:]:\n",
        "    figura.add_scatter(x = dataset_normalizado['Date'], y= dataset_normalizado[i], name=i)\n",
        "\n",
        "figura.show()\n",
        "\n",
        "dataset_normalizado.drop(['Bradesco', 'Banco do Brasil', 'NuBank', 'Itaú','Caixa Seguridade Participações'], axis= 1, inplace= True)\n",
        "\n",
        "figura = px.line(title = 'Comparativo Carteira x BOVA')\n",
        "\n",
        "for i in dataset_normalizado.columns[1:]:\n",
        "    figura.add_scatter(x = dataset_normalizado['Date'], y= dataset_normalizado[i], name=i)\n",
        "\n",
        "figura.show()"
      ],
      "metadata": {
        "id": "N0tnl6reJqnr"
      },
      "execution_count": null,
      "outputs": []
    },
    {
      "cell_type": "markdown",
      "source": [
        "#**Aula 06 – Calculando Coeficientes Importantes**"
      ],
      "metadata": {
        "id": "LDZvlr3pKs9P"
      }
    },
    {
      "cell_type": "markdown",
      "source": [
        "**Taxas de Retorno por Ano**"
      ],
      "metadata": {
        "id": "JMNAK_qjKxHd"
      }
    },
    {
      "cell_type": "code",
      "source": [
        "#!pip install pandas\n",
        "#!pip install numpy\n",
        "#!pip install math\n",
        "#!pip install matplotlib\n",
        "#!pip install matplotlib.pyplot\n",
        "#!pip install seaborn\n",
        "#!pip install plotly\n",
        "#!pip install scipy\n",
        "\n",
        "import pandas as pd\n",
        "import numpy as np\n",
        "import math\n",
        "import matplotlib.pyplot as plt\n",
        "import seaborn as sns\n",
        "import scipy\n",
        "\n",
        "from scipy as stats\n",
        "\n",
        "dataset = pd.read_csv('acoes.csv')\n",
        "\n",
        "#dataset\n",
        "#dataset.describe()\n",
        "\n",
        "#2015\n",
        "\n",
        "dataset['AMERICANAS'][dataset['Date'] == '2015-01-02'], dataset['AMERICANAS'][dataset['Date'] == '2015-12-30']\n",
        "\n",
        "#Compilo para trazer os Valores Iniciais e Finais para após poder usar no Cálculo de Log\n",
        "print(dataset)\n",
        "print(np.log(14.70/21.14)*100)\n",
        "\n",
        "dataset['VIA VAREJO'][dataset['Date'] == '2015-01-02'], dataset['VIA VAREJO'][dataset['Date'] == '2015-12-30']\n",
        "\n",
        "print(dataset)\n",
        "print(np.log(6.8/1.5)*100)\n",
        "\n",
        "#2016\n",
        "\n",
        "dataset['AMERICANAS'][dataset['Date'] == '2016-01-04'], dataset['AMERICANAS'][dataset['Date'] == '2016-12-29']\n",
        "\n",
        "#Compilo para trazer os Valores Iniciais e Finais para após poder usar no Cálculo de Log\n",
        "print(dataset)\n",
        "print(np.log(13.98737/9.846182)*100)\n",
        "\n",
        "dataset['VIA VAREJO'][dataset['Date'] == '2016-01-04'], dataset['VIA VAREJO'][dataset['Date'] == '2016-12-29']\n",
        "\n",
        "print(dataset)\n",
        "print(np.log(1.2/3.6)*100)"
      ],
      "metadata": {
        "id": "_TYVTf86K_45"
      },
      "execution_count": null,
      "outputs": []
    },
    {
      "cell_type": "markdown",
      "source": [
        "**Implementando a Variância**"
      ],
      "metadata": {
        "id": "RUPKP2WjTmSk"
      }
    },
    {
      "cell_type": "code",
      "source": [
        "#!pip install pandas\n",
        "#!pip install numpy\n",
        "#!pip install math\n",
        "#!pip install matplotlib\n",
        "#!pip install matplotlib.pyplot\n",
        "#!pip install seaborn\n",
        "#!pip install plotly\n",
        "#!pip install scipy\n",
        "\n",
        "import pandas as pd\n",
        "import numpy as np\n",
        "import math\n",
        "import matplotlib.pyplot as plt\n",
        "import seaborn as sns\n",
        "import scipy\n",
        "\n",
        "from scipy as stats\n",
        "\n",
        "dataset = pd.read_csv('acoes.csv')\n",
        "\n",
        "taxas_ame = np.array([-36.33, -35.11, 72.21, 74.27, 74.27, 39.14, 14.84, -86.73])\n",
        "media_ame = (taxas_ame.sum()/len(taxas_ame))\n",
        "media_ame = taxas_ame.mean()\n",
        "#print(media_ame)\n",
        "\n",
        "# ** 2: Elevar ao Quadrado\n",
        "desvio_ame = ((taxas_ame - media_ame) ** 2)\n",
        "print(desvio_ame)\n",
        "\n",
        "variancia = (desvio_ame.sum()/len(taxas_ame))\n",
        "variancia = taxas_ame.var()\n",
        "print(variancia)\n",
        "\n",
        "# ==============================================\n",
        "\n",
        "#Tail(30): 30 últimos dados\n",
        "dataset['AMERICANAS'].tail(30).var(), dataset['MAGALU'].tail(30).var()"
      ],
      "metadata": {
        "id": "vf1w5LqVTprD"
      },
      "execution_count": null,
      "outputs": []
    },
    {
      "cell_type": "markdown",
      "source": [
        "**Implementando o Desvio Padrão**"
      ],
      "metadata": {
        "id": "bgL5txLAbw5W"
      }
    },
    {
      "cell_type": "code",
      "source": [
        "#!pip install pandas\n",
        "#!pip install numpy\n",
        "#!pip install math\n",
        "#!pip install matplotlib\n",
        "#!pip install matplotlib.pyplot\n",
        "#!pip install seaborn\n",
        "#!pip install plotly\n",
        "#!pip install scipy\n",
        "\n",
        "import pandas as pd\n",
        "import numpy as np\n",
        "import math\n",
        "import matplotlib.pyplot as plt\n",
        "import seaborn as sns\n",
        "import scipy\n",
        "\n",
        "from scipy as stats\n",
        "\n",
        "dataset = pd.read_csv('acoes.csv')\n",
        "\n",
        "taxas_ame = np.array([-36.33, -35.11, 72.21, 74.27, 74.27, 39.14, 14.84, -86.73])\n",
        "media_ame = (taxas_ame.sum()/len(taxas_ame))\n",
        "media_ame = taxas_ame.mean()\n",
        "#print(media_ame)\n",
        "\n",
        "# ** 2: Elevar ao Quadrado\n",
        "desvio_ame = ((taxas_ame - media_ame) ** 2)\n",
        "print(desvio_ame)\n",
        "\n",
        "variancia_ame = (desvio_ame.sum()/len(taxas_ame))\n",
        "variancia_ame = taxas_ame.var()\n",
        "print(variancia_ame)\n",
        "\n",
        "# ===================================================================\n",
        "\n",
        "#Tail(30): 30 últimos dados\n",
        "dataset['AMERICANAS'].tail(30).var(), dataset['MAGALU'].tail(30).var()\n",
        "\n",
        "# ===================================================================\n",
        "\n",
        "desvio_padrao_ame = math.sqrt(variancia_ame)\n",
        "desvio_padrao_ame = taxas_ame.std()\n",
        "print(desvio_padrao_ame)\n",
        "\n",
        "# ===================================================================\n",
        "\n",
        "dataset['AMERICANAS'].tail(30).std(), dataset['MAGALU'].tail(30).std()"
      ],
      "metadata": {
        "id": "fS-IhaO9b8OX"
      },
      "execution_count": null,
      "outputs": []
    },
    {
      "cell_type": "markdown",
      "source": [
        "**Implementando Coeficiente de Variação**"
      ],
      "metadata": {
        "id": "6s73Q-DXhtc4"
      }
    },
    {
      "cell_type": "code",
      "source": [
        "#!pip install pandas\n",
        "#!pip install numpy\n",
        "#!pip install math\n",
        "#!pip install matplotlib\n",
        "#!pip install matplotlib.pyplot\n",
        "#!pip install seaborn\n",
        "#!pip install plotly\n",
        "#!pip install scipy\n",
        "\n",
        "import pandas as pd\n",
        "import numpy as np\n",
        "import math\n",
        "import matplotlib.pyplot as plt\n",
        "import seaborn as sns\n",
        "import scipy\n",
        "\n",
        "from scipy as stats\n",
        "\n",
        "dataset = pd.read_csv('acoes.csv')\n",
        "\n",
        "taxas_ame = np.array([-36.33, -35.11, 72.21, 74.27, 74.27, 39.14, 14.84, -86.73])\n",
        "media_ame = (taxas_ame.sum()/len(taxas_ame))\n",
        "media_ame = taxas_ame.mean()\n",
        "#print(media_ame)\n",
        "\n",
        "# ** 2: Elevar ao Quadrado\n",
        "desvio_ame = ((taxas_ame - media_ame) ** 2)\n",
        "print(desvio_ame)\n",
        "\n",
        "variancia_ame = (desvio_ame.sum()/len(taxas_ame))\n",
        "variancia_ame = taxas_ame.var()\n",
        "print(variancia_ame)\n",
        "\n",
        "# ===================================================================\n",
        "\n",
        "#Tail(30): 30 últimos dados\n",
        "dataset['AMERICANAS'].tail(30).var(), dataset['MAGALU'].tail(30).var()\n",
        "\n",
        "# ===================================================================\n",
        "\n",
        "desvio_padrao_ame = math.sqrt(variancia_ame)\n",
        "desvio_padrao_ame = taxas_ame.std()\n",
        "print(desvio_padrao_ame)\n",
        "\n",
        "# ===================================================================\n",
        "\n",
        "dataset['AMERICANAS'].tail(30).std(), dataset['MAGALU'].tail(30).std()\n",
        "\n",
        "# ===================================================================\n",
        "\n",
        "coeficiente_de_variacao_ame = (desvio_padrao_ame/media_ame)*100\n",
        "print(coeficiente_de_variacao_ame)\n",
        "\n",
        "print(stats.variation(taxas_ame)*100)"
      ],
      "metadata": {
        "id": "kVn4LicLhxtF"
      },
      "execution_count": null,
      "outputs": []
    },
    {
      "cell_type": "markdown",
      "source": [
        "**Aula 07 – Calculando Risco de Ações**"
      ],
      "metadata": {
        "id": "kO_2m3VxkIxQ"
      }
    },
    {
      "cell_type": "markdown",
      "source": [
        "**Risco Médio Anual**"
      ],
      "metadata": {
        "id": "KCkkUMIvkdc9"
      }
    },
    {
      "cell_type": "code",
      "source": [
        "#!pip install pandas\n",
        "#!pip install numpy\n",
        "#!pip install math\n",
        "#!pip install matplotlib\n",
        "#!pip install matplotlib.pyplot\n",
        "#!pip install seaborn\n",
        "#!pip install plotly\n",
        "#!pip install scipy\n",
        "\n",
        "import pandas as pd\n",
        "import numpy as np\n",
        "import math\n",
        "import matplotlib.pyplot as plt\n",
        "import seaborn as sns\n",
        "import scipy\n",
        "\n",
        "from scipy as stats\n",
        "\n",
        "dataset = pd.read_csv('acoes.csv')\n",
        "dataset.drop(labels=['Date'], axis= 1, inplace= True)\n",
        "\n",
        "taxas_retorno = (dataset/dataset.shift(1))-1\n",
        "taxas_retorno.std()*100\n",
        "taxas_retorno.std()*246 #Cálculo Anual\n",
        "\n",
        "#Desvio Padrão\n",
        "taxas_retorno.std()*math.sqrt(246)"
      ],
      "metadata": {
        "id": "XchYxWqlkSmm"
      },
      "execution_count": null,
      "outputs": []
    },
    {
      "cell_type": "markdown",
      "source": [
        "**Covariância e Coeficiente de Correlação**"
      ],
      "metadata": {
        "id": "btej8dk7m623"
      }
    },
    {
      "cell_type": "code",
      "source": [
        "#!pip install pandas\n",
        "#!pip install numpy\n",
        "#!pip install math\n",
        "#!pip install matplotlib\n",
        "#!pip install matplotlib.pyplot\n",
        "#!pip install seaborn\n",
        "#!pip install plotly\n",
        "#!pip install scipy\n",
        "\n",
        "import pandas as pd\n",
        "import numpy as np\n",
        "import math\n",
        "import matplotlib.pyplot as plt\n",
        "import seaborn as sns\n",
        "import scipy\n",
        "\n",
        "from scipy as stats\n",
        "\n",
        "dataset = pd.read_csv('acoes.csv')\n",
        "\n",
        "dataset.drop(labels=['Date'], axis= 1, inplace= True)\n",
        "\n",
        "taxas_retorno = (dataset/dataset.shift(1))-1\n",
        "\n",
        "#Covariância\n",
        "#>0: variáveis se movem juntas\n",
        "#<0: variáveis se movem em direções opostas\n",
        "#=0: variáveis são independentes\n",
        "taxas_retorno.cov()\n",
        "\n",
        "#Correlação\n",
        "taxas_retorno.corr()\n",
        "\n",
        "#Visualização em Gráfico\n",
        "plt.figure(figsize= (8,8))\n",
        "sns.heatmap(taxas_retorno.corr(), annot= True)"
      ],
      "metadata": {
        "id": "FUIeTlGYm-f_"
      },
      "execution_count": null,
      "outputs": []
    },
    {
      "cell_type": "markdown",
      "source": [
        "**Preparação para Cálculo de Risco de um Portfólio**"
      ],
      "metadata": {
        "id": "oihd5Oqso-6X"
      }
    },
    {
      "cell_type": "code",
      "source": [
        "#!pip install pandas\n",
        "#!pip install numpy\n",
        "#!pip install math\n",
        "#!pip install matplotlib\n",
        "#!pip install matplotlib.pyplot\n",
        "#!pip install seaborn\n",
        "#!pip install plotly\n",
        "#!pip install scipy\n",
        "\n",
        "import pandas as pd\n",
        "import numpy as np\n",
        "import math\n",
        "import matplotlib.pyplot as plt\n",
        "import seaborn as sns\n",
        "import scipy\n",
        "\n",
        "from scipy as stats\n",
        "\n",
        "dataset = pd.read_csv('acoes.csv')\n",
        "\n",
        "dataset.drop(labels=['Date'], axis= 1, inplace= True)\n",
        "\n",
        "taxas_retorno = (dataset/dataset.shift(1))-1\n",
        "print(taxas_retorno)\n",
        "\n",
        "taxas_retorno_ame_cvc = taxas_retorno.drop(columns=['WEG', 'MAGALU', 'VIA VAREJO', 'BOVESPA'])\n",
        "print(taxas_retorno_ame_cvc)\n",
        "\n",
        "#Matrizes de Covariância Anual\n",
        "taxas_retorno_ame_cvc.cov()*246\n",
        "\n",
        "#Pesos\n",
        "pesos = np.array([0.5, 0.5])"
      ],
      "metadata": {
        "id": "Y6JMoMzwpC97"
      },
      "execution_count": null,
      "outputs": []
    },
    {
      "cell_type": "markdown",
      "source": [
        "**Calculando Risco de um Portfólio com Duas Ações**"
      ],
      "metadata": {
        "id": "0YINwfC2qr6_"
      }
    },
    {
      "cell_type": "code",
      "source": [
        "#!pip install pandas\n",
        "#!pip install numpy\n",
        "#!pip install math\n",
        "#!pip install matplotlib\n",
        "#!pip install matplotlib.pyplot\n",
        "#!pip install seaborn\n",
        "#!pip install plotly\n",
        "#!pip install scipy\n",
        "\n",
        "import pandas as pd\n",
        "import numpy as np\n",
        "import math\n",
        "import matplotlib.pyplot as plt\n",
        "import seaborn as sns\n",
        "import scipy\n",
        "\n",
        "from scipy as stats\n",
        "\n",
        "dataset = pd.read_csv('acoes.csv')\n",
        "\n",
        "dataset.drop(labels=['Date'], axis= 1, inplace= True)\n",
        "\n",
        "taxas_retorno = (dataset/dataset.shift(1))-1\n",
        "print(taxas_retorno)\n",
        "\n",
        "taxas_retorno_ame_cvc = taxas_retorno.drop(columns=['WEG', 'MAGALU', 'VIA VAREJO', 'BOVESPA'])\n",
        "print(taxas_retorno_ame_cvc)\n",
        "\n",
        "#Matrizes de Covariância Anual\n",
        "taxas_retorno_ame_cvc.cov()*246\n",
        "\n",
        "#Pesos\n",
        "pesos = np.array([0.5, 0.5])\n",
        "\n",
        "# =======================================================================\n",
        "\n",
        "np.dot(taxas_retorno_ame_cvc.cov()*246, pesos)\n",
        "np.dot(pesos, np.dot(taxas_retorno_ame_cvc.cov()*246, pesos))\n",
        "\n",
        "#Desvio Padrão\n",
        "math.sqrt(np.dot(pesos, np.dot(taxas_retorno_ame_cvc.cov()*246, pesos)))"
      ],
      "metadata": {
        "id": "Sef-m8IUqw9x"
      },
      "execution_count": null,
      "outputs": []
    },
    {
      "cell_type": "markdown",
      "source": [
        "**Calculando Risco de Várias Ações**"
      ],
      "metadata": {
        "id": "FkiE3sUmsfPx"
      }
    },
    {
      "cell_type": "code",
      "source": [
        "#!pip install pandas\n",
        "#!pip install numpy\n",
        "#!pip install math\n",
        "#!pip install matplotlib\n",
        "#!pip install matplotlib.pyplot\n",
        "#!pip install seaborn\n",
        "#!pip install plotly\n",
        "#!pip install scipy\n",
        "\n",
        "import pandas as pd\n",
        "import numpy as np\n",
        "import math\n",
        "import matplotlib.pyplot as plt\n",
        "import seaborn as sns\n",
        "import scipy\n",
        "\n",
        "from scipy as stats\n",
        "\n",
        "dataset = pd.read_csv('acoes.csv')\n",
        "\n",
        "dataset.drop(labels=['Date'], axis= 1, inplace= True)\n",
        "\n",
        "taxas_retorno = (dataset/dataset.shift(1))-1\n",
        "print(taxas_retorno)\n",
        "\n",
        "#Todas as Ações\n",
        "pesos1= np.array([0.2, 0.2, 0.2, 0.2, 0.2, 0.0])\n",
        "\n",
        "#Covariância Anual\n",
        "taxas_retorno.cov()*246\n",
        "np.dot(taxas_retorno.cov()*246, pesos1)\n",
        "\n",
        "#Variância do Portfólio1\n",
        "variancia_do_portfolio1 = np.dot(pesos1, np.dot(taxas_retorno.cov()*246, pesos1))\n",
        "\n",
        "#Volatilidade do Portfólio1\n",
        "volatilidade_portfolio1 = math.sqrt(variancia_do_portfolio1)\n",
        "\n",
        "print(variancia_do_portfolio1)\n",
        "print(volatilidade_portfolio1)\n",
        "\n",
        "print('# ====================================== #')\n",
        "\n",
        "taxas_retorno.std()*math.sqrt(246)\n",
        "\n",
        "#Considerando as Ações da Bovespa\n",
        "pesos2= np.array([0.0, 0.0, 0.0, 0.0, 0.0, 1.0])\n",
        "\n",
        "#Covariância Anual\n",
        "#taxas_retorno.cov()*246\n",
        "#np.dot(taxas_retorno.cov()*246, pesos2)\n",
        "\n",
        "#Variância do Portfólio1\n",
        "variancia_do_portfolio2 = np.dot(pesos2, np.dot(taxas_retorno.cov()*246, pesos2))\n",
        "\n",
        "#Volatilidade do Portfólio1\n",
        "volatilidade_portfolio2 = math.sqrt(variancia_do_portfolio2)\n",
        "\n",
        "print(variancia_do_portfolio2)\n",
        "print(volatilidade_portfolio2)\n",
        "\n",
        "print('# ====================================== #')"
      ],
      "metadata": {
        "id": "ltqc0r4oskl-"
      },
      "execution_count": null,
      "outputs": []
    },
    {
      "cell_type": "markdown",
      "source": [
        "**EXERCICIO PRÁTICO**\n",
        "\n",
        "\n",
        "Usando a base de dados gerada no EXERÍCIO PRÁTICO da aula 14, calcule as taxas de retorno desta carteira de ações e calcule o risco desta carteira, bem como gere a matriz de correlação.\n",
        "\n",
        "Compare o resultado desta carteira com a BOVA e responda à pergunta abaixo:\n",
        "\n",
        "Qual das ações, sua carteira ou a BOVA possui maior risco de investimento?\n",
        "\n",
        "Justifique!"
      ],
      "metadata": {
        "id": "vnj3as5xwfsX"
      }
    },
    {
      "cell_type": "code",
      "source": [
        "#!pip install pandas\n",
        "#!pip install numpy\n",
        "#!pip install math\n",
        "#!pip install matplotlib\n",
        "#!pip install matplotlib.pyplot\n",
        "#!pip install seaborn\n",
        "#!pip install plotly\n",
        "#!pip install scipy\n",
        "\n",
        "import pandas as pd\n",
        "import numpy as np\n",
        "import math\n",
        "import matplotlib.pyplot as plt\n",
        "import seaborn as sns\n",
        "import scipy\n",
        "\n",
        "from scipy as stats\n",
        "\n",
        "dataset = pd.read_csv('acoes1.csv')\n",
        "\n",
        "dataset.drop(labels=['Date'], axis= 1, inplace= True)\n",
        "\n",
        "taxas_retorno = (dataset/dataset.shift(1))-1\n",
        "\n",
        "#Covariância\n",
        "#>0: variáveis se movem juntas\n",
        "#<0: variáveis se movem em direções opostas\n",
        "#=0: variáveis são independentes\n",
        "taxas_retorno.cov()\n",
        "\n",
        "#Correlação\n",
        "taxas_retorno.corr()\n",
        "\n",
        "#Visualização em Gráfico\n",
        "plt.figure(figsize= (8,8))\n",
        "sns.heatmap(taxas_retorno.corr(), annot= True)"
      ],
      "metadata": {
        "id": "2uHoTOGJwlvu"
      },
      "execution_count": null,
      "outputs": []
    },
    {
      "cell_type": "code",
      "source": [
        "#'Bradesco', 'Banco do Brasil', 'NuBank', 'Itaú','Caixa Seguridade Participações', 'BOVESPA'\n",
        "\n",
        "#!pip install pandas\n",
        "#!pip install numpy\n",
        "#!pip install math\n",
        "#!pip install matplotlib\n",
        "#!pip install matplotlib.pyplot\n",
        "#!pip install seaborn\n",
        "#!pip install plotly\n",
        "#!pip install scipy\n",
        "\n",
        "import pandas as pd\n",
        "import numpy as np\n",
        "import math\n",
        "import matplotlib.pyplot as plt\n",
        "import seaborn as sns\n",
        "import scipy\n",
        "\n",
        "from scipy as stats\n",
        "\n",
        "dataset = pd.read_csv('acoes1.csv')\n",
        "\n",
        "dataset.drop(labels=['Date'], axis= 1, inplace= True)\n",
        "\n",
        "taxas_retorno = (dataset/dataset.shift(1))-1\n",
        "print(taxas_retorno)\n",
        "\n",
        "taxas_retorno_bradesco_nubank = taxas_retorno.drop(columns=['Banco do Brasil', 'Itaú', 'Caixa Seguridade Participações', 'BOVESPA'])\n",
        "print(taxas_retorno_bradesco_nubank)\n",
        "\n",
        "#Matrizes de Covariância Anual\n",
        "taxas_retorno_bradesco_nubank.cov()*246\n",
        "\n",
        "#Pesos\n",
        "pesos = np.array([0.5, 0.5])\n",
        "\n",
        "# =======================================================================\n",
        "\n",
        "np.dot(taxas_retorno_bradesco_nubank.cov()*246, pesos)\n",
        "np.dot(pesos, np.dot(taxas_retorno_bradesco_nubank.cov()*246, pesos))\n",
        "\n",
        "#Desvio Padrão\n",
        "math.sqrt(np.dot(pesos, np.dot(taxas_retorno_bradesco_nubank.cov()*246, pesos)))"
      ],
      "metadata": {
        "id": "mtXUwJ2mw7en"
      },
      "execution_count": null,
      "outputs": []
    },
    {
      "cell_type": "code",
      "source": [
        "#'Bradesco', 'Banco do Brasil', 'NuBank', 'Itaú','Caixa Seguridade Participações', 'BOVESPA'\n",
        "\n",
        "#!pip install pandas\n",
        "#!pip install numpy\n",
        "#!pip install math\n",
        "#!pip install matplotlib\n",
        "#!pip install matplotlib.pyplot\n",
        "#!pip install seaborn\n",
        "#!pip install plotly\n",
        "#!pip install scipy\n",
        "\n",
        "import pandas as pd\n",
        "import numpy as np\n",
        "import math\n",
        "import matplotlib.pyplot as plt\n",
        "import seaborn as sns\n",
        "import scipy\n",
        "\n",
        "from scipy as stats\n",
        "\n",
        "dataset = pd.read_csv('acoes1.csv')\n",
        "\n",
        "dataset.drop(labels=['Date'], axis= 1, inplace= True)\n",
        "\n",
        "taxas_retorno = (dataset/dataset.shift(1))-1\n",
        "print(taxas_retorno)\n",
        "\n",
        "#Todas as Ações\n",
        "pesos1= np.array([0.2, 0.2, 0.2, 0.2, 0.2, 0.0])\n",
        "\n",
        "#Covariância Anual\n",
        "taxas_retorno.cov()*246\n",
        "np.dot(taxas_retorno.cov()*246, pesos1)\n",
        "\n",
        "#Variância do Portfólio1\n",
        "variancia_do_portfolio1 = np.dot(pesos1, np.dot(taxas_retorno.cov()*246, pesos1))\n",
        "\n",
        "#Volatilidade do Portfólio1\n",
        "volatilidade_portfolio1 = math.sqrt(variancia_do_portfolio1)\n",
        "\n",
        "print(variancia_do_portfolio1)\n",
        "print(volatilidade_portfolio1)\n",
        "\n",
        "print('# ====================================== #')\n",
        "\n",
        "taxas_retorno.std()*math.sqrt(246)\n",
        "\n",
        "#Considerando as Ações da Bovespa\n",
        "pesos2= np.array([0.0, 0.0, 0.0, 0.0, 0.0, 1.0])\n",
        "\n",
        "#Covariância Anual\n",
        "#taxas_retorno.cov()*246\n",
        "#np.dot(taxas_retorno.cov()*246, pesos2)\n",
        "\n",
        "#Variância do Portfólio1\n",
        "variancia_do_portfolio2 = np.dot(pesos2, np.dot(taxas_retorno.cov()*246, pesos2))\n",
        "\n",
        "#Volatilidade do Portfólio1\n",
        "volatilidade_portfolio2 = math.sqrt(variancia_do_portfolio2)\n",
        "\n",
        "print(variancia_do_portfolio2)\n",
        "print(volatilidade_portfolio2)\n",
        "\n",
        "print('# ====================================== #')"
      ],
      "metadata": {
        "id": "4qNUBFUFyjx6"
      },
      "execution_count": null,
      "outputs": []
    }
  ]
}